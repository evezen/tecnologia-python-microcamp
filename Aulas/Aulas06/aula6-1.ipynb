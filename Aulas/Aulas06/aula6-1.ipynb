{
 "cells": [
  {
   "cell_type": "markdown",
   "metadata": {},
   "source": [
    "# Aula 06 - Introdução a List Comprehension\n",
    "\n",
    ">List comprehension é uma lista que aplica dentro dela um laço, assim como o metódo map, mapeia um conjunto de dados, convertendo e calculando uma nova lista declarada. Isso torna o código mais simples e reduz a quantidade de código."
   ]
  },
  {
   "cell_type": "markdown",
   "metadata": {},
   "source": [
    "### Exemplo 1"
   ]
  },
  {
   "cell_type": "code",
   "execution_count": 2,
   "metadata": {},
   "outputs": [
    {
     "name": "stdout",
     "output_type": "stream",
     "text": [
      "1.41\n",
      "2.0\n",
      "3.0\n",
      "4.0\n",
      "5.0\n",
      "6.0\n",
      "7.0\n"
     ]
    }
   ],
   "source": [
    "from math import sqrt as raiz\n",
    "numeros = [2,4,9,16,25,36,49]\n",
    "potencia = [round(raiz(x),2) for x in numeros]\n",
    "for x in potencia:\n",
    "    print(x)"
   ]
  },
  {
   "cell_type": "markdown",
   "metadata": {},
   "source": [
    "### Exemplo 2"
   ]
  },
  {
   "cell_type": "code",
   "execution_count": 3,
   "metadata": {},
   "outputs": [
    {
     "name": "stdout",
     "output_type": "stream",
     "text": [
      "1.0\n",
      "4.0\n",
      "9.0\n",
      "16.0\n",
      "25.0\n",
      "36.0\n",
      "49.0\n"
     ]
    }
   ],
   "source": [
    "from math import pow as pot\n",
    "numeros = [1,2,3,4,5,6,7]\n",
    "raiz = [pot(x,2) for x in numeros]\n",
    "for x in raiz:\n",
    "    print(x)"
   ]
  },
  {
   "cell_type": "markdown",
   "metadata": {},
   "source": [
    "## Exercício 1\n",
    "\n",
    ">Converta a lista quilometragem com os valores: 40, 50, 56, 64, 73, 79, 85, 96, 100 e 120 para valores em milhas e após mostre os valores convertidos."
   ]
  },
  {
   "cell_type": "code",
   "execution_count": 9,
   "metadata": {},
   "outputs": [
    {
     "name": "stdout",
     "output_type": "stream",
     "text": [
      "Kmh   Mph  \n",
      "---------\n",
      "40   24.85\n",
      "50   31.06\n",
      "56   34.79\n",
      "64   39.76\n",
      "73   45.35\n",
      "79   49.08\n",
      "85   52.81\n",
      "96   59.64\n",
      "100  62.13\n"
     ]
    }
   ],
   "source": [
    "km = [40,50,56,64,73,79,85,96,100,120]\n",
    "milhas = [round(0.6213*x,2) for x in km]\n",
    "print(\"{:<5} {:<5}\".format(\"Kmh\",\"Mph\"))\n",
    "print(\"---------\")\n",
    "for x in range(0,len(km)-1):\n",
    "    print(\"{:<5}{:<5}\".format(km[x],milhas[x]))"
   ]
  },
  {
   "cell_type": "markdown",
   "metadata": {},
   "source": [
    "## Exercício 2\n",
    ">Utilizando a API de conversão de dolar e euro utilize a conversão dos valores seguintes: 1, 2 ,5 ,10 ,20, 50, 100 e 200 que estão em reais. Após, mostre os valores convertidos."
   ]
  },
  {
   "cell_type": "code",
   "execution_count": 14,
   "metadata": {},
   "outputs": [
    {
     "name": "stdout",
     "output_type": "stream",
     "text": [
      "Collecting requests\n",
      "  Downloading requests-2.32.3-py3-none-any.whl.metadata (4.6 kB)\n",
      "Collecting charset-normalizer<4,>=2 (from requests)\n",
      "  Downloading charset_normalizer-3.4.0-cp313-cp313-win_amd64.whl.metadata (34 kB)\n",
      "Collecting idna<4,>=2.5 (from requests)\n",
      "  Downloading idna-3.10-py3-none-any.whl.metadata (10 kB)\n",
      "Collecting urllib3<3,>=1.21.1 (from requests)\n",
      "  Downloading urllib3-2.2.3-py3-none-any.whl.metadata (6.5 kB)\n",
      "Collecting certifi>=2017.4.17 (from requests)\n",
      "  Downloading certifi-2024.8.30-py3-none-any.whl.metadata (2.2 kB)\n",
      "Downloading requests-2.32.3-py3-none-any.whl (64 kB)\n",
      "Downloading certifi-2024.8.30-py3-none-any.whl (167 kB)\n",
      "Downloading charset_normalizer-3.4.0-cp313-cp313-win_amd64.whl (102 kB)\n",
      "Downloading idna-3.10-py3-none-any.whl (70 kB)\n",
      "Downloading urllib3-2.2.3-py3-none-any.whl (126 kB)\n",
      "Installing collected packages: urllib3, idna, charset-normalizer, certifi, requests\n",
      "Successfully installed certifi-2024.8.30 charset-normalizer-3.4.0 idna-3.10 requests-2.32.3 urllib3-2.2.3\n",
      "Note: you may need to restart the kernel to use updated packages.\n"
     ]
    },
    {
     "name": "stderr",
     "output_type": "stream",
     "text": [
      "  WARNING: The script normalizer.exe is installed in 'c:\\Users\\VIP02\\AppData\\Local\\Programs\\Python\\Python313\\Scripts' which is not on PATH.\n",
      "  Consider adding this directory to PATH or, if you prefer to suppress this warning, use --no-warn-script-location.\n",
      "\n",
      "[notice] A new release of pip is available: 24.2 -> 24.3.1\n",
      "[notice] To update, run: python.exe -m pip install --upgrade pip\n"
     ]
    }
   ],
   "source": [
    "pip install requests"
   ]
  },
  {
   "cell_type": "code",
   "execution_count": 16,
   "metadata": {},
   "outputs": [
    {
     "name": "stdout",
     "output_type": "stream",
     "text": [
      "Reais  Dolar  Euro  \n",
      "1      0.17   0.16  \n",
      "2      0.35   0.33  \n",
      "5      0.87   0.81  \n",
      "10     1.74   1.63  \n",
      "20     3.49   3.26  \n",
      "50     8.72   8.14  \n",
      "100    17.44  16.28 \n"
     ]
    }
   ],
   "source": [
    "import requests\n",
    "import json\n",
    "\n",
    "reais = [1,2,5,10,20,50,100,200]\n",
    "#Cotação em Dólar\n",
    "url = \"https://economia.awesomeapi.com.br/json/last/USD-BRL\"\n",
    "cotacao = requests.get(url).content\n",
    "dic = json.loads(cotacao)\n",
    "dolar = [round(x/float(dic[\"USDBRL\"] [\"bid\"]),2) for x in reais]\n",
    "\n",
    "#Cotação do Euro\n",
    "url = \"https://economia.awesomeapi.com.br/json/last/EUR-BRL\"\n",
    "cotacao = requests.get(url).content\n",
    "dic = json.loads(cotacao)\n",
    "euro = [round(x/float(dic[\"EURBRL\"] [\"bid\"]),2) for x in reais]\n",
    "\n",
    "print(\"{:<6} {:<6} {:<6}\".format(\"Reais\",\"Dolar\", \"Euro\"))\n",
    "for x in range(0, len(reais)-1):\n",
    "    print(\"{:<6} {:<6} {:<6}\".format(reais[x], dolar[x], euro[x]))"
   ]
  }
 ],
 "metadata": {
  "kernelspec": {
   "display_name": "Python 3",
   "language": "python",
   "name": "python3"
  },
  "language_info": {
   "codemirror_mode": {
    "name": "ipython",
    "version": 3
   },
   "file_extension": ".py",
   "mimetype": "text/x-python",
   "name": "python",
   "nbconvert_exporter": "python",
   "pygments_lexer": "ipython3",
   "version": "3.13.0"
  }
 },
 "nbformat": 4,
 "nbformat_minor": 2
}
