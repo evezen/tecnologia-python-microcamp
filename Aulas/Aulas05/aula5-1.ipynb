{
 "cells": [
  {
   "cell_type": "markdown",
   "metadata": {},
   "source": [
    "Aula 05 - Função map em python\n",
    "\n",
    ">As funções map aplicam uma rotina, onde nela se aplica operações para cada elemento da lista declarada anteriormente. Após o uso de map aplicamos a conversão para um tipo lista cada elemento calculado."
   ]
  },
  {
   "cell_type": "markdown",
   "metadata": {},
   "source": [
    "Exemplo com laço de repetição:"
   ]
  },
  {
   "cell_type": "code",
   "execution_count": 18,
   "metadata": {},
   "outputs": [],
   "source": [
    "kmh = [40,50,64,73,79,89,100,120]"
   ]
  },
  {
   "cell_type": "code",
   "execution_count": 19,
   "metadata": {},
   "outputs": [
    {
     "name": "stdout",
     "output_type": "stream",
     "text": [
      "24.84\n",
      "31.06\n",
      "39.75\n",
      "45.34\n",
      "49.07\n",
      "55.28\n",
      "62.11\n",
      "74.53\n"
     ]
    }
   ],
   "source": [
    "mph = []\n",
    "for i in kmh:\n",
    "    mph.append(round(i/1.61,2))\n",
    "    print(mph[len(mph)-1])"
   ]
  },
  {
   "cell_type": "markdown",
   "metadata": {},
   "source": [
    "### Exemplo utilizando a Função Map"
   ]
  },
  {
   "cell_type": "code",
   "execution_count": 20,
   "metadata": {},
   "outputs": [
    {
     "name": "stdout",
     "output_type": "stream",
     "text": [
      "24.84\n",
      "31.06\n",
      "39.75\n",
      "45.34\n",
      "49.07\n",
      "55.28\n",
      "62.11\n",
      "74.53\n"
     ]
    }
   ],
   "source": [
    "mph2 = list(map(lambda x: round(x/1.61,2),kmh))\n",
    "for i in mph2:\n",
    "    print(i)"
   ]
  },
  {
   "cell_type": "markdown",
   "metadata": {},
   "source": [
    "## Exercício 1:\n",
    "\n",
    "Uma lista em reais está os valores: 1,2,5,10,20,50,100,200. Monte uma função map para a conversão de reais para dolar e reais para euro."
   ]
  },
  {
   "cell_type": "code",
   "execution_count": 21,
   "metadata": {},
   "outputs": [],
   "source": [
    "reais = [1,2,5,10,20,50,100,200]"
   ]
  },
  {
   "cell_type": "code",
   "execution_count": 27,
   "metadata": {},
   "outputs": [
    {
     "name": "stdout",
     "output_type": "stream",
     "text": [
      "0.18\n",
      "0.35\n",
      "0.88\n",
      "1.75\n",
      "3.5\n",
      "8.76\n",
      "17.51\n",
      "35.03\n"
     ]
    }
   ],
   "source": [
    "dolar = list(map(lambda x: round(x/5.71,2),reais))\n",
    "for x in dolar :\n",
    "    print(x)"
   ]
  },
  {
   "cell_type": "code",
   "execution_count": 29,
   "metadata": {},
   "outputs": [
    {
     "name": "stdout",
     "output_type": "stream",
     "text": [
      "0.16\n",
      "0.32\n",
      "0.81\n",
      "1.62\n",
      "3.25\n",
      "8.12\n",
      "16.23\n",
      "32.47\n"
     ]
    }
   ],
   "source": [
    "euro = list(map(lambda y: round(y/6.16,2),reais))\n",
    "for y in euro:\n",
    "    print(y)"
   ]
  },
  {
   "cell_type": "markdown",
   "metadata": {},
   "source": [
    "## Exercício 2:\n",
    "Uma lista possui as temperaturas em celsius: 1,5,-10,-20,15,10,50,100,-25. Monte uma função lambda que faça a conversão em fahrenheit e para kelvin."
   ]
  },
  {
   "cell_type": "code",
   "execution_count": 31,
   "metadata": {},
   "outputs": [],
   "source": [
    "celsius = [1,5,-10,-20,15,10,50,100,-25]"
   ]
  },
  {
   "cell_type": "code",
   "execution_count": 38,
   "metadata": {},
   "outputs": [
    {
     "name": "stdout",
     "output_type": "stream",
     "text": [
      "33.8\n",
      "41.0\n",
      "14.0\n",
      "-4.0\n",
      "59.0\n",
      "50.0\n",
      "122.0\n",
      "212.0\n",
      "-13.0\n"
     ]
    }
   ],
   "source": [
    "fahrenheit = list(map(lambda x: round((x*1.8)+32,2),celsius))\n",
    "for i in fahrenheit:\n",
    "    print(i)\n"
   ]
  },
  {
   "cell_type": "code",
   "execution_count": 35,
   "metadata": {},
   "outputs": [
    {
     "name": "stdout",
     "output_type": "stream",
     "text": [
      "274.15\n",
      "1370.75\n",
      "-2741.5\n",
      "-5483.0\n",
      "4112.25\n",
      "2741.5\n",
      "13707.5\n",
      "27415.0\n",
      "-6853.75\n"
     ]
    }
   ],
   "source": [
    "kelvin = list(map(lambda y: round(y*274.15,2),celsius))\n",
    "for i in kelvin:\n",
    "    print(i)"
   ]
  },
  {
   "cell_type": "markdown",
   "metadata": {},
   "source": [
    "### Exercício 3:\n",
    "Uma lista possui possui os pesos da terra: 1,2,5,10,20,50,100,200,500. Monte uma função lambda que faça a conversão do peso na lua e marte."
   ]
  },
  {
   "cell_type": "code",
   "execution_count": 39,
   "metadata": {},
   "outputs": [],
   "source": [
    "terra = [1,2,5,10,20,50,100,200,500]\n"
   ]
  },
  {
   "cell_type": "code",
   "execution_count": 43,
   "metadata": {},
   "outputs": [
    {
     "name": "stdout",
     "output_type": "stream",
     "text": [
      "0.17\n",
      "0.34\n",
      "0.85\n",
      "1.7\n",
      "3.4\n",
      "8.5\n",
      "17.0\n",
      "34.0\n",
      "85.0\n"
     ]
    }
   ],
   "source": [
    "lua = list(map(lambda x: round(x*0.17,2),terra))\n",
    "for i in lua:\n",
    "    print(i)"
   ]
  },
  {
   "cell_type": "code",
   "execution_count": 44,
   "metadata": {},
   "outputs": [
    {
     "name": "stdout",
     "output_type": "stream",
     "text": [
      "0.38\n",
      "0.76\n",
      "1.9\n",
      "3.8\n",
      "7.6\n",
      "19.0\n",
      "38.0\n",
      "76.0\n",
      "190.0\n"
     ]
    }
   ],
   "source": [
    "marte = list(map(lambda y: round(y*0.38,2),terra))\n",
    "for i in marte:\n",
    "    print(i)"
   ]
  },
  {
   "cell_type": "markdown",
   "metadata": {},
   "source": [
    "Importando uma API"
   ]
  },
  {
   "cell_type": "code",
   "execution_count": 50,
   "metadata": {},
   "outputs": [
    {
     "name": "stdout",
     "output_type": "stream",
     "text": [
      "Collecting requests\n",
      "  Downloading requests-2.32.3-py3-none-any.whl.metadata (4.6 kB)\n",
      "Collecting charset-normalizer<4,>=2 (from requests)\n",
      "  Downloading charset_normalizer-3.4.0-cp313-cp313-win_amd64.whl.metadata (34 kB)\n",
      "Collecting idna<4,>=2.5 (from requests)\n",
      "  Downloading idna-3.10-py3-none-any.whl.metadata (10 kB)\n",
      "Collecting urllib3<3,>=1.21.1 (from requests)\n",
      "  Downloading urllib3-2.2.3-py3-none-any.whl.metadata (6.5 kB)\n",
      "Collecting certifi>=2017.4.17 (from requests)\n",
      "  Downloading certifi-2024.8.30-py3-none-any.whl.metadata (2.2 kB)\n",
      "Downloading requests-2.32.3-py3-none-any.whl (64 kB)\n",
      "Downloading certifi-2024.8.30-py3-none-any.whl (167 kB)\n",
      "Downloading charset_normalizer-3.4.0-cp313-cp313-win_amd64.whl (102 kB)\n",
      "Downloading idna-3.10-py3-none-any.whl (70 kB)\n",
      "Downloading urllib3-2.2.3-py3-none-any.whl (126 kB)\n",
      "Installing collected packages: urllib3, idna, charset-normalizer, certifi, requests\n",
      "Successfully installed certifi-2024.8.30 charset-normalizer-3.4.0 idna-3.10 requests-2.32.3 urllib3-2.2.3\n",
      "Note: you may need to restart the kernel to use updated packages.\n"
     ]
    },
    {
     "name": "stderr",
     "output_type": "stream",
     "text": [
      "  WARNING: The script normalizer.exe is installed in 'c:\\Users\\VIP02\\AppData\\Local\\Programs\\Python\\Python313\\Scripts' which is not on PATH.\n",
      "  Consider adding this directory to PATH or, if you prefer to suppress this warning, use --no-warn-script-location.\n"
     ]
    }
   ],
   "source": [
    "pip install requests"
   ]
  },
  {
   "cell_type": "code",
   "execution_count": 51,
   "metadata": {},
   "outputs": [],
   "source": [
    "import requests\n",
    "import json"
   ]
  },
  {
   "cell_type": "markdown",
   "metadata": {},
   "source": [
    "### Calculando o dolar e o euro atual"
   ]
  },
  {
   "cell_type": "code",
   "execution_count": 52,
   "metadata": {},
   "outputs": [
    {
     "name": "stdout",
     "output_type": "stream",
     "text": [
      "O dolar hoje: R$ 5.71\n",
      "O euro hoje: R$ 6.16\n"
     ]
    }
   ],
   "source": [
    "def dolar():\n",
    "    url = \"https://economia.awesomeapi.com.br/json/last/USD-BRL\"\n",
    "    cotacao = requests.get(url).content\n",
    "    dic = json.loads(cotacao)\n",
    "    return round(float(dic[\"USDBRL\"][\"bid\"]),2)\n",
    "\n",
    "def euro():\n",
    "    url = \"https://economia.awesomeapi.com.br/json/last/EUR-BRL\"\n",
    "    cotacao = requests.get(url).content\n",
    "    dic = json.loads(cotacao)\n",
    "    return round(float(dic[\"EURBRL\"][\"bid\"]),2)\n",
    "\n",
    "def __main__():\n",
    "    print(f\"O dolar hoje: R$ {dolar()}\")\n",
    "    print(f\"O euro hoje: R$ {euro()}\")\n",
    "\n",
    "__main__()"
   ]
  },
  {
   "cell_type": "code",
   "execution_count": null,
   "metadata": {},
   "outputs": [],
   "source": []
  }
 ],
 "metadata": {
  "kernelspec": {
   "display_name": "Python 3",
   "language": "python",
   "name": "python3"
  },
  "language_info": {
   "codemirror_mode": {
    "name": "ipython",
    "version": 3
   },
   "file_extension": ".py",
   "mimetype": "text/x-python",
   "name": "python",
   "nbconvert_exporter": "python",
   "pygments_lexer": "ipython3",
   "version": "3.13.0"
  }
 },
 "nbformat": 4,
 "nbformat_minor": 2
}
