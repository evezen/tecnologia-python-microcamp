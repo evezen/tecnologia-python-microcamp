{
 "cells": [
  {
   "cell_type": "markdown",
   "metadata": {},
   "source": [
    "Aula 01 - 4\n",
    "\n",
    "Introdução a Dicionarios"
   ]
  },
  {
   "cell_type": "code",
   "execution_count": 1,
   "metadata": {},
   "outputs": [
    {
     "name": "stdout",
     "output_type": "stream",
     "text": [
      "<class 'dict'>\n"
     ]
    }
   ],
   "source": [
    "curso = {}\n",
    "print(type(curso))"
   ]
  },
  {
   "cell_type": "code",
   "execution_count": 3,
   "metadata": {},
   "outputs": [
    {
     "name": "stdout",
     "output_type": "stream",
     "text": [
      "dict_keys(['Aula 01'])\n",
      "dict_values(['Introdução a Python'])\n"
     ]
    }
   ],
   "source": [
    "curso = {'Aula 01': 'Introdução a Python'}\n",
    "print(curso.keys())\n",
    "print(curso.values())"
   ]
  },
  {
   "cell_type": "code",
   "execution_count": 4,
   "metadata": {},
   "outputs": [
    {
     "data": {
      "text/plain": [
       "'Introdução a Python'"
      ]
     },
     "execution_count": 4,
     "metadata": {},
     "output_type": "execute_result"
    }
   ],
   "source": [
    "curso.get('Aula 01')"
   ]
  },
  {
   "cell_type": "code",
   "execution_count": 5,
   "metadata": {},
   "outputs": [
    {
     "name": "stdout",
     "output_type": "stream",
     "text": [
      "Python\n",
      "JavaScript\n",
      "PHP\n"
     ]
    }
   ],
   "source": [
    "matricula = {\n",
    "    \"127986\":\"Python\",\n",
    "    \"637920\":\"JavaScript\",\n",
    "    \"378490\":\"PHP\"\n",
    "}\n",
    "\n",
    "print(matricula.get(\"127986\"))\n",
    "print(matricula.get(\"637920\"))\n",
    "print(matricula.get(\"378490\"))"
   ]
  },
  {
   "cell_type": "code",
   "execution_count": 7,
   "metadata": {},
   "outputs": [
    {
     "name": "stdout",
     "output_type": "stream",
     "text": [
      "dict_keys(['curso', 'ano', 'professor', 'aluno'])\n",
      "dict_values(['Tecnologia da Informação', 2024, 'Gustavo Ferreira', 'Everton'])\n"
     ]
    }
   ],
   "source": [
    "microcamp = {\n",
    "    \"curso\":\"Tecnologia da Informação\",\n",
    "    \"ano\":2024,\n",
    "    \"professor\":\"Gustavo Ferreira\",\n",
    "    \"aluno\":\"Everton\"\n",
    "}\n",
    "print(microcamp.keys())\n",
    "print(microcamp.values())"
   ]
  },
  {
   "cell_type": "code",
   "execution_count": 8,
   "metadata": {},
   "outputs": [
    {
     "data": {
      "text/plain": [
       "dict_items([('curso', 'Tecnologia da Informação'), ('ano', 2024), ('professor', 'Gustavo Ferreira'), ('aluno', 'Everton')])"
      ]
     },
     "execution_count": 8,
     "metadata": {},
     "output_type": "execute_result"
    }
   ],
   "source": [
    "microcamp.items()"
   ]
  },
  {
   "cell_type": "code",
   "execution_count": 9,
   "metadata": {},
   "outputs": [
    {
     "data": {
      "text/plain": [
       "('aluno', 'Everton')"
      ]
     },
     "execution_count": 9,
     "metadata": {},
     "output_type": "execute_result"
    }
   ],
   "source": [
    "microcamp.popitem()"
   ]
  },
  {
   "cell_type": "code",
   "execution_count": 10,
   "metadata": {},
   "outputs": [
    {
     "data": {
      "text/plain": [
       "('professor', 'Gustavo Ferreira')"
      ]
     },
     "execution_count": 10,
     "metadata": {},
     "output_type": "execute_result"
    }
   ],
   "source": [
    "microcamp.popitem()"
   ]
  },
  {
   "cell_type": "code",
   "execution_count": null,
   "metadata": {},
   "outputs": [],
   "source": [
    "microcamp.popitem()\n",
    "microcamp.popitem()\n",
    "microcamp.update({\"Aluno\":\"Everton\"})\n"
   ]
  },
  {
   "cell_type": "code",
   "execution_count": null,
   "metadata": {},
   "outputs": [],
   "source": [
    "print(microcamp.items())"
   ]
  }
 ],
 "metadata": {
  "kernelspec": {
   "display_name": "Python 3",
   "language": "python",
   "name": "python3"
  },
  "language_info": {
   "codemirror_mode": {
    "name": "ipython",
    "version": 3
   },
   "file_extension": ".py",
   "mimetype": "text/x-python",
   "name": "python",
   "nbconvert_exporter": "python",
   "pygments_lexer": "ipython3",
   "version": "3.12.6"
  }
 },
 "nbformat": 4,
 "nbformat_minor": 2
}
