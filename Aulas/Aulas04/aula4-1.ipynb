{
 "cells": [
  {
   "cell_type": "markdown",
   "metadata": {},
   "source": [
    "# Revisão de métodos\n",
    "\n",
    "## Metodos def\n",
    "Na ultima aula aprendemos os conceitos sobre laços e após desenvolvemos uma aplicação usando métodos. O primeiro laço aplicado é combinado com enquanto e realiza uma estrutura de repetição até uma condição ser insatisfatória. O segundo laço é conhecido como para e define a númeração de repetições, definidas por range ou uma condição imposta."
   ]
  },
  {
   "cell_type": "markdown",
   "metadata": {},
   "source": [
    "### Exercicio de fixação \n",
    "No ultimo exercício foi aplicado um método que calculava através da montante o valor após o tempo de carência, cobrando a taxa mensal a juros compostos. Crie um algoritmo que calcule o juros simples dentro de um método. Mostre o valor calculado definido nas entradas, o valor da divida e os meses de juros."
   ]
  },
  {
   "cell_type": "code",
   "execution_count": 1,
   "metadata": {},
   "outputs": [
    {
     "name": "stdout",
     "output_type": "stream",
     "text": [
      "A divida séra R$ 750.0\n"
     ]
    }
   ],
   "source": [
    "def divida(x,y,z):\n",
    "    res = x + (x*y*z)\n",
    "    return res\n",
    "\n",
    "def  __main__ ():\n",
    "    conta = 400\n",
    "    meses = 7\n",
    "    juros = 0.125\n",
    "\n",
    "    print(\"A divida séra R$\", divida(conta,meses,juros))\n",
    "\n",
    "__main__()"
   ]
  },
  {
   "cell_type": "markdown",
   "metadata": {},
   "source": [
    "### Exercício 1\n",
    "Aplicando os mesmos recursos da atividade anterior desenvolva um programa em que receba a conta, os meses, e os juros compostos e retorne o valor total após o tempo definido."
   ]
  },
  {
   "cell_type": "code",
   "execution_count": 3,
   "metadata": {},
   "outputs": [
    {
     "name": "stdout",
     "output_type": "stream",
     "text": [
      "A divida séra R$ 912.28\n"
     ]
    }
   ],
   "source": [
    "def divida(x,y,z):\n",
    "    res = x*(1+z)**y\n",
    "    return round(res,2) \n",
    "\n",
    "def __main__():\n",
    "    conta = 400\n",
    "    meses = 7\n",
    "    juros = 0.125\n",
    "\n",
    "    print(\"A divida séra R$\", divida(conta,meses,juros))\n",
    "\n",
    "__main__()"
   ]
  },
  {
   "cell_type": "markdown",
   "metadata": {},
   "source": [
    "### Exercício 2\n",
    "\n",
    "Crie um algoritimo que verifica a idade de uma pessoa. Caso maior de dezoito anos liberara um cheque especial. O juro do cheque especial é 7% a juros simples e o valor liberado séra de 1200 reais. Os parametros do metodo séra idade e o meses de devolução. O algoritimo retornará o valor pago após o periodo."
   ]
  },
  {
   "cell_type": "code",
   "execution_count": 16,
   "metadata": {},
   "outputs": [
    {
     "name": "stdout",
     "output_type": "stream",
     "text": [
      "R$ 1788.0\n"
     ]
    }
   ],
   "source": [
    "def cheque(x,y):\n",
    "    if(x>=18):\n",
    "        return f\"R$ {1200 + (1200*y*0.07)}\"\n",
    "    \n",
    "    else:\n",
    "        return \"Cheque não autorizado para menores!\"\n",
    "\n",
    "def __main__():\n",
    "    idade = 18\n",
    "    meses = 7\n",
    "\n",
    "    print(cheque(idade,meses))\n",
    "\n",
    "__main__()    \n",
    "\n",
    "\n"
   ]
  }
 ],
 "metadata": {
  "kernelspec": {
   "display_name": "Python 3",
   "language": "python",
   "name": "python3"
  },
  "language_info": {
   "codemirror_mode": {
    "name": "ipython",
    "version": 3
   },
   "file_extension": ".py",
   "mimetype": "text/x-python",
   "name": "python",
   "nbconvert_exporter": "python",
   "pygments_lexer": "ipython3",
   "version": "3.13.0"
  }
 },
 "nbformat": 4,
 "nbformat_minor": 2
}
