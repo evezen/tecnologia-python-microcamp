{
 "cells": [
  {
   "cell_type": "markdown",
   "metadata": {},
   "source": [
    "Introdução a Laços de Repetição\n",
    "\n",
    "Enquanto (while)"
   ]
  },
  {
   "cell_type": "markdown",
   "metadata": {},
   "source": [
    "> O laço de repetição enquanto é uma estrutura utilizada para realizar uma ação diversas vezes até que uma condição não seja mais satisfatória. Essa condição é declarada no seu começo e caso não seja atendida, o bloco não séra executado pelo compilador. Vamos ver como funciona na prática:"
   ]
  },
  {
   "cell_type": "markdown",
   "metadata": {},
   "source": [
    "Contagem de Partida"
   ]
  },
  {
   "cell_type": "code",
   "execution_count": 1,
   "metadata": {},
   "outputs": [
    {
     "name": "stdout",
     "output_type": "stream",
     "text": [
      "x= 0\n",
      "x= 1\n",
      "x= 2\n",
      "x= 3\n",
      "x= 4\n",
      "x= 5\n"
     ]
    }
   ],
   "source": [
    "x = 0\n",
    "while(x<=5):\n",
    "    print(\"x=\", x)\n",
    "    x += 1"
   ]
  },
  {
   "cell_type": "markdown",
   "metadata": {},
   "source": [
    "Contagem Regressiva"
   ]
  },
  {
   "cell_type": "code",
   "execution_count": 2,
   "metadata": {},
   "outputs": [
    {
     "name": "stdout",
     "output_type": "stream",
     "text": [
      "x = 5\n",
      "x = 4\n",
      "x = 3\n",
      "x = 2\n",
      "x = 1\n",
      "x = 0\n"
     ]
    }
   ],
   "source": [
    "x = 5\n",
    "while (x>=0):\n",
    "    print(\"x =\", x)\n",
    "    x -= 1"
   ]
  },
  {
   "cell_type": "code",
   "execution_count": 3,
   "metadata": {},
   "outputs": [
    {
     "name": "stdout",
     "output_type": "stream",
     "text": [
      "x = 0\n",
      "x = 10\n",
      "x = 20\n",
      "x = 30\n",
      "x = 40\n",
      "x = 50\n",
      "x = 60\n",
      "x = 70\n",
      "x = 80\n",
      "x = 90\n",
      "x = 100\n"
     ]
    }
   ],
   "source": [
    "x = 0\n",
    "while (x<=100):\n",
    "    print(\"x =\", x)\n",
    "    x+=10"
   ]
  },
  {
   "cell_type": "markdown",
   "metadata": {},
   "source": [
    "## Para (for)"
   ]
  },
  {
   "cell_type": "markdown",
   "metadata": {},
   "source": [
    "> O laço de repetição para utilizar com parametro um ponteiro que percorre uma lista de valores até que a condição inicial não for mais satisfeita. Essa estrutura pode possuir variações que facilitam no aprendizado e na solução de paradigmas. Vejamos os exemplos abaixo:"
   ]
  },
  {
   "cell_type": "markdown",
   "metadata": {},
   "source": [
    "Ranger (celula)"
   ]
  },
  {
   "cell_type": "code",
   "execution_count": 4,
   "metadata": {},
   "outputs": [
    {
     "name": "stdout",
     "output_type": "stream",
     "text": [
      "0\n",
      "1\n",
      "2\n",
      "3\n",
      "4\n",
      "5\n",
      "6\n",
      "7\n",
      "8\n",
      "9\n"
     ]
    }
   ],
   "source": [
    "import time\n",
    "for tempo in range(10):\n",
    "    print(tempo)\n",
    "    time.sleep(2)"
   ]
  },
  {
   "cell_type": "markdown",
   "metadata": {},
   "source": [
    "### Percorrer lista"
   ]
  },
  {
   "cell_type": "code",
   "execution_count": 9,
   "metadata": {},
   "outputs": [
    {
     "name": "stdout",
     "output_type": "stream",
     "text": [
      "0²=0.0\n",
      "1²=1.0\n",
      "2²=4.0\n",
      "3²=9.0\n",
      "4²=16.0\n",
      "5²=25.0\n",
      "6²=36.0\n",
      "7²=49.0\n",
      "8²=64.0\n",
      "9²=81.0\n"
     ]
    }
   ],
   "source": [
    "import math\n",
    "import time\n",
    "lista = []\n",
    "for x in range(10):\n",
    "    lista.append(x)\n",
    "for i in lista:\n",
    "    time.sleep(0.75)\n",
    "    print(f\"{i}²={math.pow(i, 2)}\")"
   ]
  },
  {
   "cell_type": "markdown",
   "metadata": {},
   "source": [
    "## Exercício 01"
   ]
  },
  {
   "cell_type": "markdown",
   "metadata": {},
   "source": [
    "Crie um programa que cobre o valor de uma divida adicionando uma taxa de juros simples mensal. O valor da divida inicial é de R$ 254,00. A taxa é de 5% mensal sobre ela. Mostre em tela a divida a cada mês, finalizando em 12 meses."
   ]
  },
  {
   "cell_type": "code",
   "execution_count": 15,
   "metadata": {},
   "outputs": [
    {
     "name": "stdout",
     "output_type": "stream",
     "text": [
      "No mês 1 a divida séra de R$254.0\n",
      "No mês 2 a divida séra de R$266.7\n",
      "No mês 3 a divida séra de R$280.03\n",
      "No mês 4 a divida séra de R$294.03\n",
      "No mês 5 a divida séra de R$308.73\n",
      "No mês 6 a divida séra de R$324.17\n",
      "No mês 7 a divida séra de R$340.38\n",
      "No mês 8 a divida séra de R$357.4\n",
      "No mês 9 a divida séra de R$375.27\n",
      "No mês 10 a divida séra de R$394.03\n",
      "No mês 11 a divida séra de R$413.73\n",
      "No mês 12 a divida séra de R$434.42\n"
     ]
    }
   ],
   "source": [
    "taxa = 0.05\n",
    "divida = 254.00\n",
    "\n",
    "for mês in range(12):\n",
    "    mês +=1\n",
    "    print(f\"No mês {mês} a divida séra de R${round(divida,2)}\")\n",
    "    divida = round(divida+(divida*taxa),2)\n",
    "\n",
    "    "
   ]
  },
  {
   "cell_type": "markdown",
   "metadata": {},
   "source": [
    "### Exercício 02"
   ]
  },
  {
   "cell_type": "markdown",
   "metadata": {},
   "source": [
    "Crie um programa que cobre o valor de uma divida adicionando uma taxa de juros composto mensal. O valor da divida inical é de R$254,00. A taxa é de 5% mensal. Mostre em tela a divida a cada mês, finalizando em 12 meses."
   ]
  },
  {
   "cell_type": "code",
   "execution_count": 18,
   "metadata": {},
   "outputs": [
    {
     "name": "stdout",
     "output_type": "stream",
     "text": [
      "No mês 1 a divida séra de R$254\n",
      "No mês 2 a divida séra de R$266.7\n",
      "No mês 3 a divida séra de R$294.04\n",
      "No mês 4 a divida séra de R$340.38\n",
      "No mês 5 a divida séra de R$413.74\n",
      "No mês 6 a divida séra de R$528.05\n",
      "No mês 7 a divida séra de R$707.63\n",
      "No mês 8 a divida séra de R$995.71\n",
      "No mês 9 a divida séra de R$1471.12\n",
      "No mês 10 a divida séra de R$2282.19\n",
      "No mês 11 a divida séra de R$3717.45\n",
      "No mês 12 a divida séra de R$6358.1\n"
     ]
    }
   ],
   "source": [
    "taxa = 0.05\n",
    "divida = 254\n",
    "\n",
    "for mes in range(12):\n",
    "    mes+=1\n",
    "    print(f\"No mês {mes} a divida séra de R${round(divida,2)}\")\n",
    "    divida = divida*pow((1+taxa),mes)"
   ]
  },
  {
   "cell_type": "markdown",
   "metadata": {},
   "source": [
    "# Introdução a métodos"
   ]
  },
  {
   "cell_type": "markdown",
   "metadata": {},
   "source": [
    ">Métodos são ações prédefinidas que ao ser chamadas dentro de uma estrutura inicia uma rotina em um bloco separado. Ao ser finalizada a rotina volta para a estrutura anterior. Os tipos de métodos conhecidos são com entradas,sem entradas, com retorno e nulos."
   ]
  },
  {
   "cell_type": "markdown",
   "metadata": {},
   "source": [
    "### Métodos com retorno"
   ]
  },
  {
   "cell_type": "code",
   "execution_count": 20,
   "metadata": {},
   "outputs": [
    {
     "name": "stdout",
     "output_type": "stream",
     "text": [
      "No mês 1 a divida séra de R$20\n",
      "No mês 2 a divida séra de R$21.0\n",
      "No mês 3 a divida séra de R$22.05\n",
      "No mês 4 a divida séra de R$23.15\n"
     ]
    }
   ],
   "source": [
    "def simples (divida,mês,taxa):\n",
    "    for mês in range(mês):\n",
    "        mês +=1\n",
    "        print(f\"No mês {mês} a divida séra de R${round(divida,2)}\")\n",
    "        divida = round(divida+(divida*taxa),2)\n",
    "\n",
    "simples(20,4,0.05)\n"
   ]
  },
  {
   "cell_type": "markdown",
   "metadata": {},
   "source": [
    "### Exercício 03"
   ]
  },
  {
   "cell_type": "markdown",
   "metadata": {},
   "source": [
    ">Assim como no exemplo acima foi criado um método com parametros de entrada para realizar a operação de calculo de juros simples. Crie um método com o nome composto para calcular o juros de forma composta. Seguir conforme o código já desenvolvido."
   ]
  },
  {
   "cell_type": "code",
   "execution_count": 22,
   "metadata": {},
   "outputs": [
    {
     "name": "stdout",
     "output_type": "stream",
     "text": [
      "No mês 1 a divida séra de R$20\n",
      "No mês 2 a divida séra de R$21.0\n",
      "No mês 3 a divida séra de R$23.15\n",
      "No mês 4 a divida séra de R$26.8\n"
     ]
    }
   ],
   "source": [
    "def composto (divida,mês,taxa):\n",
    "    for mês in range(mês):\n",
    "        mês +=1\n",
    "        print(f\"No mês {mês} a divida séra de R${round(divida,2)}\")\n",
    "        divida = divida*pow((1+taxa),mês)\n",
    "\n",
    "composto (20,4,0.05)"
   ]
  }
 ],
 "metadata": {
  "kernelspec": {
   "display_name": "Python 3",
   "language": "python",
   "name": "python3"
  },
  "language_info": {
   "codemirror_mode": {
    "name": "ipython",
    "version": 3
   },
   "file_extension": ".py",
   "mimetype": "text/x-python",
   "name": "python",
   "nbconvert_exporter": "python",
   "pygments_lexer": "ipython3",
   "version": "3.13.0"
  }
 },
 "nbformat": 4,
 "nbformat_minor": 2
}
